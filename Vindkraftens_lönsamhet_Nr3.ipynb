{
  "nbformat": 4,
  "nbformat_minor": 0,
  "metadata": {
    "colab": {
      "provenance": [],
      "authorship_tag": "ABX9TyNI00NIPCWkV8FWjzgWGH+s",
      "include_colab_link": true
    },
    "kernelspec": {
      "name": "python3",
      "display_name": "Python 3"
    },
    "language_info": {
      "name": "python"
    }
  },
  "cells": [
    {
      "cell_type": "markdown",
      "metadata": {
        "id": "view-in-github",
        "colab_type": "text"
      },
      "source": [
        "<a href=\"https://colab.research.google.com/github/kentlundgren/aktieutveckling/blob/main/Vindkraftens_l%C3%B6nsamhet_Nr3.ipynb\" target=\"_parent\"><img src=\"https://colab.research.google.com/assets/colab-badge.svg\" alt=\"Open In Colab\"/></a>"
      ]
    },
    {
      "cell_type": "code",
      "execution_count": 5,
      "metadata": {
        "colab": {
          "base_uri": "https://localhost:8080/"
        },
        "id": "I9oWxjDlytk7",
        "outputId": "c2852ac1-1fd9-4da2-9cc4-86612ba4514b"
      },
      "outputs": [
        {
          "output_type": "stream",
          "name": "stdout",
          "text": [
            "Standardvärdena är:\n",
            "X = 4\n",
            "Y = 12\n",
            "Z = 0.42\n",
            "P = 25\n",
            "Q = 5\n",
            "R = 0.1\n",
            "S = 42100\n",
            "T = 62\n",
            "Vill du använda standardvärden? (ja/nej): ja\n",
            "\n",
            "Använda värden:\n",
            "X = 4.0, Y = 12.0, Z = 0.42, P = 25, Q = 5.0, R = 0.1, S = 42100.0, T = 62.0\n",
            "\n",
            "Överskott per år: 4.107e+06 kr\n",
            "Nettonuvärde: 5.788e+07 kr\n",
            "Internränta: 15.19%\n"
          ]
        }
      ],
      "source": [
        "# Importera nödvändiga bibliotek\n",
        "import subprocess\n",
        "import sys\n",
        "\n",
        "def install(package):\n",
        "    subprocess.check_call([sys.executable, \"-m\", \"pip\", \"install\", package])\n",
        "\n",
        "try:\n",
        "    import numpy_financial as npf\n",
        "except ImportError:\n",
        "    install('numpy-financial')\n",
        "    import numpy_financial as npf\n",
        "\n",
        "import numpy as np\n",
        "\n",
        "# Funktion för att omvandla decimaltecken från komma till punkt\n",
        "def convert_decimal(input):\n",
        "    return float(input.replace(',', '.'))\n",
        "\n",
        "# Funktion för att fråga efter indata\n",
        "def ask_input(prompt, example):\n",
        "    print(f\"{prompt} (t.ex. {example}): \", end=\"\")\n",
        "    return convert_decimal(input())\n",
        "\n",
        "# Funktion för att skriva ut stora tal med fyra värdesiffror\n",
        "def format_large_number(num):\n",
        "    return \"{:.4g}\".format(num)\n",
        "\n",
        "# Standardvärden\n",
        "defaults = {\"X\": \"4\", \"Y\": \"12\", \"Z\": \"0.42\", \"P\": \"25\", \"Q\": \"5\", \"R\": \"0.1\", \"S\": \"42100\", \"T\": \"62\"}\n",
        "\n",
        "# Skriv ut standardvärdena\n",
        "print(\"Standardvärdena är:\")\n",
        "for key, value in defaults.items():\n",
        "    print(f\"{key} = {value}\")\n",
        "\n",
        "# Fråga användaren om hen vill använda standardvärden\n",
        "use_defaults = input(\"Vill du använda standardvärden? (ja/nej): \").lower() == \"ja\"\n",
        "\n",
        "# Fråga efter indata\n",
        "X = convert_decimal(defaults[\"X\"]) if use_defaults else ask_input(\"Vad är storleken på vindkraftsverket i MW\", defaults[\"X\"])\n",
        "Y = convert_decimal(defaults[\"Y\"]) if use_defaults else ask_input(\"Vad är investeringsutgiften i Mkr/MW\", defaults[\"Y\"])\n",
        "Z = convert_decimal(defaults[\"Z\"]) if use_defaults else ask_input(\"Vad är kapacitetsfaktorn\", defaults[\"Z\"])\n",
        "P = int(defaults[\"P\"]) if use_defaults else int(ask_input(\"Vad är vindkraftverkets livslängd i år\", defaults[\"P\"]))\n",
        "Q = convert_decimal(defaults[\"Q\"]) if use_defaults else ask_input(\"Vad är kalkylräntan i %\", defaults[\"Q\"])\n",
        "R = convert_decimal(defaults[\"R\"]) if use_defaults else ask_input(\"Vad är den rörliga driftskostnaden i kr/kWh\", defaults[\"R\"])\n",
        "S = convert_decimal(defaults[\"S\"]) if use_defaults else ask_input(\"Vad är den fasta driftskostnaden i kr/MW\", defaults[\"S\"])\n",
        "T = convert_decimal(defaults[\"T\"]) if use_defaults else ask_input(\"Vad är intäkten per kWh producerad el i öre/kWh\", defaults[\"T\"])\n",
        "\n",
        "# Skriv ut de använda värdena\n",
        "print(\"\\nAnvända värden:\")\n",
        "print(f\"X = {X}, Y = {Y}, Z = {Z}, P = {P}, Q = {Q}, R = {R}, S = {S}, T = {T}\")\n",
        "\n",
        "# Beräkna totala investeringskostnaden\n",
        "total_investment = X * Y * 1e6  # i kr\n",
        "\n",
        "# Beräkna årlig producerad mängd elenergi i kWh\n",
        "annual_energy_production = X * 8792 * Z * 1e3  # i kWh\n",
        "\n",
        "# Beräkna årliga intäkter i kr\n",
        "annual_revenue = annual_energy_production * T / 100  # i kr\n",
        "\n",
        "# Beräkna årliga rörliga driftskostnader i kr\n",
        "annual_variable_costs = annual_energy_production * R  # i kr\n",
        "\n",
        "# Beräkna årliga fasta driftskostnader i kr\n",
        "annual_fixed_costs = X * S  # i kr\n",
        "\n",
        "# Beräkna årliga kostnader i kr\n",
        "annual_costs = annual_variable_costs + annual_fixed_costs  # i kr\n",
        "\n",
        "# Beräkna årligt kassaflöde i kr\n",
        "annual_cash_flow = annual_revenue - annual_costs  # i kr\n",
        "\n",
        "# Beräkna kapitalkostnaden med hjälp av annuitetsmetoden\n",
        "annuity_factor = (1 - (1 + Q / 100) ** -P) / (Q / 100)\n",
        "capital_cost = total_investment / annuity_factor\n",
        "\n",
        "# Beräkna årligt överskott efter kapitalkostnaden\n",
        "annual_surplus = annual_cash_flow - capital_cost\n",
        "\n",
        "# Beräkna nuvärde av kassaflöden under vindkraftverkets livslängd\n",
        "npv_cash_flows = npf.pv(Q / 100, P, -annual_cash_flow)  # i kr\n",
        "\n",
        "# Beräkna lönsamheten som nuvärde av kassaflöden minus totala investeringskostnaden\n",
        "profitability = npv_cash_flows - total_investment  # i kr\n",
        "\n",
        "# Beräkna internräntan\n",
        "irr = npf.irr([-total_investment] + [annual_cash_flow]*P)\n",
        "\n",
        "print(f\"\\nÖverskott per år: {format_large_number(annual_surplus)} kr\")\n",
        "print(f\"Nettonuvärde: {format_large_number(profitability)} kr\")\n",
        "print(f\"Internränta: {format_large_number(irr * 100)}%\")\n",
        "\n"
      ]
    }
  ]
}